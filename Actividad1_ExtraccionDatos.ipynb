{
  "nbformat": 4,
  "nbformat_minor": 0,
  "metadata": {
    "colab": {
      "provenance": [],
      "toc_visible": true,
      "authorship_tag": "ABX9TyOERrO579N+4F0MgAhpFvS6",
      "include_colab_link": true
    },
    "kernelspec": {
      "name": "python3",
      "display_name": "Python 3"
    },
    "language_info": {
      "name": "python"
    }
  },
  "cells": [
    {
      "cell_type": "markdown",
      "metadata": {
        "id": "view-in-github",
        "colab_type": "text"
      },
      "source": [
        "<a href=\"https://colab.research.google.com/github/angelo202226/Actividad2/blob/segundaRama/Actividad1_ExtraccionDatos.ipynb\" target=\"_parent\"><img src=\"https://colab.research.google.com/assets/colab-badge.svg\" alt=\"Open In Colab\"/></a>"
      ]
    },
    {
      "cell_type": "markdown",
      "source": [
        "# <span style=\"color:#809bd8\">**Evidencia de aprendizaje 2 Optimizando la productividad en el mundo del software**</span>\n",
        "\n",
        "\n",
        "\n",
        "**<span style=\"color:#809bd8\">Programa:</span>** **Ingenieria de Software y datos**\n",
        "\n",
        "**<span style=\"color:#809bd8\">Curso:</span>** **Programación para Análisis de Datos**\n",
        "\n",
        "**<span style=\"color:#809bd8\">Grupo:</span>** **PREICA2402B020101**\n",
        "\n",
        "**<span style=\"color:#809bd8\">Docente:</span>** **Andrés Felipe Palacio**\n",
        "\n",
        "**<span style=\"color:#809bd8\">Estudiante:</span>**\n",
        "- **Angelo Duque**\n",
        "- **Daniel Felipe Marin Giraldo**\n",
        "- **Duvan Arley Botero Rivillas**\n",
        "\n",
        "**<span style=\"color:#809bd8\">Universidad:</span>** **Universidad Digital de Antioquia – IUDIGITAL**\n",
        "\n",
        "**<span style=\"color:#809bd8\">Fecha:</span>** **17/11/2024**"
      ],
      "metadata": {
        "id": "bO7dIDEkS8_8"
      }
    },
    {
      "cell_type": "code",
      "source": [
        "import requests\n",
        "from bs4 import BeautifulSoup\n",
        "import os"
      ],
      "metadata": {
        "id": "fWtqnB1tWn-6"
      },
      "execution_count": null,
      "outputs": []
    },
    {
      "cell_type": "code",
      "source": [
        "!pip install beautifulsoup4\n",
        "\n",
        "def scrape_website(url):\n",
        "    try:\n",
        "      response = requests.get(url)\n",
        "      response.raise_for_status()\n",
        "\n",
        "      soup = BeautifulSoup(response.text, 'html.parser')\n",
        "\n",
        "      productos = soup.find_all('li', class_='ui-search-layout_item')\n",
        "\n",
        "      resultado = \"\"\n",
        "\n",
        "      for producto in productos:\n",
        "        titulo_elemento = producto.find(\"h2\", class_=\"ui-search-item__title\")\n",
        "        titulo = titulo_elemento.text.strip() if titulo_elemento else \"Título no encontrado\"\n",
        "\n",
        "        precio_elemento = producto.find(\"span\", class_=\"price-tag-fraction\")\n",
        "        precio = precio_elemento.text.strip() if precio_elemento else \"Precio no encontrado\"\n",
        "\n",
        "        resultado += f\"Título: {titulo}\\n\"\n",
        "        resultado += f\"Precio: {precio}\\n\"\n",
        "        resultado += \"------\\n\"\n",
        "\n",
        "      if not os.path.exists('content/sample_data'):\n",
        "          os.makedirs('content/sample_data')  # Crea el directorio si no existe\n",
        "      with open(\"content/sample_data/mercadolibre_data.html\", \"w\", encoding=\"utf-8\") as f:\n",
        "          f.write(str(soup))  # Guarda el HTML completo\n",
        "\n",
        "      return resultados\n",
        "\n",
        "    except requests.exceptions.RequestException as e:\n",
        "       return f\"Error al acceder a la página: {e}\"\n",
        "    except AttributeError as e:\n",
        "        return f\"Error al analizar el HTML: {e}. verificar el selector CSS\"\n",
        "    except Exception as e:\n",
        "        return f\"Error desconocido: {e}\"\n",
        "\n",
        "url_mercadolibre = \"https://listado.mercadolibre.com.co/play-station-4\"\n",
        "\n",
        "resultados = scrape_website(url_mercadolibre)\n",
        "resultados\n",
        "\n",
        "\n",
        "\n",
        "\n"
      ],
      "metadata": {
        "colab": {
          "base_uri": "https://localhost:8080/",
          "height": 70
        },
        "id": "FLbtEvrwtDCo",
        "outputId": "1bddc96c-94bd-48f7-e3fd-be98fa45a3b2"
      },
      "execution_count": null,
      "outputs": [
        {
          "output_type": "stream",
          "name": "stdout",
          "text": [
            "Requirement already satisfied: beautifulsoup4 in /usr/local/lib/python3.10/dist-packages (4.12.3)\n",
            "Requirement already satisfied: soupsieve>1.2 in /usr/local/lib/python3.10/dist-packages (from beautifulsoup4) (2.6)\n"
          ]
        },
        {
          "output_type": "execute_result",
          "data": {
            "text/plain": [
              "\"Error desconocido: name 'resultados' is not defined\""
            ],
            "application/vnd.google.colaboratory.intrinsic+json": {
              "type": "string"
            }
          },
          "metadata": {},
          "execution_count": 2
        }
      ]
    }
  ]
}